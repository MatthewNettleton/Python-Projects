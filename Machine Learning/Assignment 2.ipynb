{
 "cells": [
  {
   "cell_type": "code",
   "execution_count": 83,
   "metadata": {},
   "outputs": [],
   "source": [
    "import numpy as np\n",
    "import pandas as pd\n",
    "import matplotlib.pyplot as plt\n",
    "import seaborn as sns\n",
    "from sklearn.utils import shuffle\n",
    "from sklearn import preprocessing\n",
    "from sklearn.model_selection import train_test_split\n",
    "from sklearn.preprocessing import StandardScaler\n",
    "from sklearn.neural_network import MLPClassifier\n",
    "from sklearn.model_selection import cross_val_score"
   ]
  },
  {
   "cell_type": "code",
   "execution_count": 84,
   "metadata": {},
   "outputs": [
    {
     "data": {
      "text/html": [
       "<div>\n",
       "<style scoped>\n",
       "    .dataframe tbody tr th:only-of-type {\n",
       "        vertical-align: middle;\n",
       "    }\n",
       "\n",
       "    .dataframe tbody tr th {\n",
       "        vertical-align: top;\n",
       "    }\n",
       "\n",
       "    .dataframe thead th {\n",
       "        text-align: right;\n",
       "    }\n",
       "</style>\n",
       "<table border=\"1\" class=\"dataframe\">\n",
       "  <thead>\n",
       "    <tr style=\"text-align: right;\">\n",
       "      <th></th>\n",
       "      <th>Status</th>\n",
       "      <th>Power_range_sensor_1</th>\n",
       "      <th>Power_range_sensor_2</th>\n",
       "      <th>Power_range_sensor_3</th>\n",
       "      <th>Power_range_sensor_4</th>\n",
       "      <th>Pressure _sensor_1</th>\n",
       "      <th>Pressure _sensor_2</th>\n",
       "      <th>Pressure _sensor_3</th>\n",
       "      <th>Pressure _sensor_4</th>\n",
       "      <th>Vibration_sensor_1</th>\n",
       "      <th>Vibration_sensor_2</th>\n",
       "      <th>Vibration_sensor_3</th>\n",
       "      <th>Vibration_sensor_4</th>\n",
       "    </tr>\n",
       "  </thead>\n",
       "  <tbody>\n",
       "    <tr>\n",
       "      <th>411</th>\n",
       "      <td>Normal</td>\n",
       "      <td>9.157100</td>\n",
       "      <td>6.482800</td>\n",
       "      <td>10.303300</td>\n",
       "      <td>8.290100</td>\n",
       "      <td>14.202900</td>\n",
       "      <td>5.208800</td>\n",
       "      <td>7.243300</td>\n",
       "      <td>4.149900</td>\n",
       "      <td>1.532400</td>\n",
       "      <td>7.763700</td>\n",
       "      <td>6.600600</td>\n",
       "      <td>4.098800</td>\n",
       "    </tr>\n",
       "    <tr>\n",
       "      <th>922</th>\n",
       "      <td>Abnormal</td>\n",
       "      <td>3.477588</td>\n",
       "      <td>6.401418</td>\n",
       "      <td>9.788532</td>\n",
       "      <td>2.686680</td>\n",
       "      <td>4.911606</td>\n",
       "      <td>1.262760</td>\n",
       "      <td>6.170184</td>\n",
       "      <td>1.747362</td>\n",
       "      <td>4.802262</td>\n",
       "      <td>11.365350</td>\n",
       "      <td>8.907762</td>\n",
       "      <td>1.854972</td>\n",
       "    </tr>\n",
       "    <tr>\n",
       "      <th>624</th>\n",
       "      <td>Abnormal</td>\n",
       "      <td>2.545200</td>\n",
       "      <td>7.427700</td>\n",
       "      <td>9.999400</td>\n",
       "      <td>5.709200</td>\n",
       "      <td>9.992600</td>\n",
       "      <td>3.366200</td>\n",
       "      <td>4.830800</td>\n",
       "      <td>4.405400</td>\n",
       "      <td>3.452600</td>\n",
       "      <td>1.006200</td>\n",
       "      <td>17.770800</td>\n",
       "      <td>13.238100</td>\n",
       "    </tr>\n",
       "    <tr>\n",
       "      <th>446</th>\n",
       "      <td>Normal</td>\n",
       "      <td>2.688900</td>\n",
       "      <td>6.699800</td>\n",
       "      <td>10.015900</td>\n",
       "      <td>7.313200</td>\n",
       "      <td>4.681400</td>\n",
       "      <td>0.287800</td>\n",
       "      <td>3.908300</td>\n",
       "      <td>3.276000</td>\n",
       "      <td>0.886200</td>\n",
       "      <td>8.880800</td>\n",
       "      <td>7.976100</td>\n",
       "      <td>12.194900</td>\n",
       "    </tr>\n",
       "    <tr>\n",
       "      <th>853</th>\n",
       "      <td>Abnormal</td>\n",
       "      <td>0.451962</td>\n",
       "      <td>1.976964</td>\n",
       "      <td>4.544100</td>\n",
       "      <td>7.194264</td>\n",
       "      <td>1.052130</td>\n",
       "      <td>2.260320</td>\n",
       "      <td>0.507042</td>\n",
       "      <td>5.460366</td>\n",
       "      <td>11.026404</td>\n",
       "      <td>25.131882</td>\n",
       "      <td>14.472678</td>\n",
       "      <td>14.708094</td>\n",
       "    </tr>\n",
       "    <tr>\n",
       "      <th>...</th>\n",
       "      <td>...</td>\n",
       "      <td>...</td>\n",
       "      <td>...</td>\n",
       "      <td>...</td>\n",
       "      <td>...</td>\n",
       "      <td>...</td>\n",
       "      <td>...</td>\n",
       "      <td>...</td>\n",
       "      <td>...</td>\n",
       "      <td>...</td>\n",
       "      <td>...</td>\n",
       "      <td>...</td>\n",
       "      <td>...</td>\n",
       "    </tr>\n",
       "    <tr>\n",
       "      <th>120</th>\n",
       "      <td>Normal</td>\n",
       "      <td>4.870600</td>\n",
       "      <td>5.305500</td>\n",
       "      <td>6.872900</td>\n",
       "      <td>12.779800</td>\n",
       "      <td>17.079200</td>\n",
       "      <td>5.400700</td>\n",
       "      <td>0.363000</td>\n",
       "      <td>10.918100</td>\n",
       "      <td>8.003800</td>\n",
       "      <td>11.964100</td>\n",
       "      <td>24.242100</td>\n",
       "      <td>14.964400</td>\n",
       "    </tr>\n",
       "    <tr>\n",
       "      <th>131</th>\n",
       "      <td>Normal</td>\n",
       "      <td>4.987800</td>\n",
       "      <td>9.347500</td>\n",
       "      <td>7.477100</td>\n",
       "      <td>15.921000</td>\n",
       "      <td>3.684600</td>\n",
       "      <td>4.211200</td>\n",
       "      <td>6.906900</td>\n",
       "      <td>14.071600</td>\n",
       "      <td>11.345600</td>\n",
       "      <td>5.594300</td>\n",
       "      <td>16.210600</td>\n",
       "      <td>26.550000</td>\n",
       "    </tr>\n",
       "    <tr>\n",
       "      <th>850</th>\n",
       "      <td>Abnormal</td>\n",
       "      <td>1.559478</td>\n",
       "      <td>3.575712</td>\n",
       "      <td>4.799916</td>\n",
       "      <td>6.334200</td>\n",
       "      <td>7.238430</td>\n",
       "      <td>0.608430</td>\n",
       "      <td>0.297126</td>\n",
       "      <td>2.584578</td>\n",
       "      <td>18.220362</td>\n",
       "      <td>10.904004</td>\n",
       "      <td>1.468902</td>\n",
       "      <td>20.160096</td>\n",
       "    </tr>\n",
       "    <tr>\n",
       "      <th>388</th>\n",
       "      <td>Normal</td>\n",
       "      <td>9.770500</td>\n",
       "      <td>4.670100</td>\n",
       "      <td>8.683800</td>\n",
       "      <td>10.359200</td>\n",
       "      <td>22.861500</td>\n",
       "      <td>6.838700</td>\n",
       "      <td>3.947600</td>\n",
       "      <td>4.078300</td>\n",
       "      <td>8.880800</td>\n",
       "      <td>5.742000</td>\n",
       "      <td>18.980100</td>\n",
       "      <td>10.542500</td>\n",
       "    </tr>\n",
       "    <tr>\n",
       "      <th>890</th>\n",
       "      <td>Abnormal</td>\n",
       "      <td>7.462320</td>\n",
       "      <td>5.016564</td>\n",
       "      <td>5.796354</td>\n",
       "      <td>8.524956</td>\n",
       "      <td>12.200628</td>\n",
       "      <td>4.262376</td>\n",
       "      <td>8.829018</td>\n",
       "      <td>4.362642</td>\n",
       "      <td>3.606414</td>\n",
       "      <td>9.689286</td>\n",
       "      <td>4.171392</td>\n",
       "      <td>3.455760</td>\n",
       "    </tr>\n",
       "  </tbody>\n",
       "</table>\n",
       "<p>996 rows × 13 columns</p>\n",
       "</div>"
      ],
      "text/plain": [
       "       Status  Power_range_sensor_1  Power_range_sensor_2  \\\n",
       "411    Normal              9.157100              6.482800   \n",
       "922  Abnormal              3.477588              6.401418   \n",
       "624  Abnormal              2.545200              7.427700   \n",
       "446    Normal              2.688900              6.699800   \n",
       "853  Abnormal              0.451962              1.976964   \n",
       "..        ...                   ...                   ...   \n",
       "120    Normal              4.870600              5.305500   \n",
       "131    Normal              4.987800              9.347500   \n",
       "850  Abnormal              1.559478              3.575712   \n",
       "388    Normal              9.770500              4.670100   \n",
       "890  Abnormal              7.462320              5.016564   \n",
       "\n",
       "     Power_range_sensor_3   Power_range_sensor_4  Pressure _sensor_1  \\\n",
       "411              10.303300              8.290100           14.202900   \n",
       "922               9.788532              2.686680            4.911606   \n",
       "624               9.999400              5.709200            9.992600   \n",
       "446              10.015900              7.313200            4.681400   \n",
       "853               4.544100              7.194264            1.052130   \n",
       "..                     ...                   ...                 ...   \n",
       "120               6.872900             12.779800           17.079200   \n",
       "131               7.477100             15.921000            3.684600   \n",
       "850               4.799916              6.334200            7.238430   \n",
       "388               8.683800             10.359200           22.861500   \n",
       "890               5.796354              8.524956           12.200628   \n",
       "\n",
       "     Pressure _sensor_2  Pressure _sensor_3  Pressure _sensor_4  \\\n",
       "411            5.208800            7.243300            4.149900   \n",
       "922            1.262760            6.170184            1.747362   \n",
       "624            3.366200            4.830800            4.405400   \n",
       "446            0.287800            3.908300            3.276000   \n",
       "853            2.260320            0.507042            5.460366   \n",
       "..                  ...                 ...                 ...   \n",
       "120            5.400700            0.363000           10.918100   \n",
       "131            4.211200            6.906900           14.071600   \n",
       "850            0.608430            0.297126            2.584578   \n",
       "388            6.838700            3.947600            4.078300   \n",
       "890            4.262376            8.829018            4.362642   \n",
       "\n",
       "     Vibration_sensor_1  Vibration_sensor_2  Vibration_sensor_3  \\\n",
       "411            1.532400            7.763700            6.600600   \n",
       "922            4.802262           11.365350            8.907762   \n",
       "624            3.452600            1.006200           17.770800   \n",
       "446            0.886200            8.880800            7.976100   \n",
       "853           11.026404           25.131882           14.472678   \n",
       "..                  ...                 ...                 ...   \n",
       "120            8.003800           11.964100           24.242100   \n",
       "131           11.345600            5.594300           16.210600   \n",
       "850           18.220362           10.904004            1.468902   \n",
       "388            8.880800            5.742000           18.980100   \n",
       "890            3.606414            9.689286            4.171392   \n",
       "\n",
       "     Vibration_sensor_4  \n",
       "411            4.098800  \n",
       "922            1.854972  \n",
       "624           13.238100  \n",
       "446           12.194900  \n",
       "853           14.708094  \n",
       "..                  ...  \n",
       "120           14.964400  \n",
       "131           26.550000  \n",
       "850           20.160096  \n",
       "388           10.542500  \n",
       "890            3.455760  \n",
       "\n",
       "[996 rows x 13 columns]"
      ]
     },
     "execution_count": 84,
     "metadata": {},
     "output_type": "execute_result"
    }
   ],
   "source": [
    "data = pd.read_csv(r\"C:\\Users\\mattn\\Desktop\\CMP3751M_CMP9772M_ML_Assignment 2-dataset-nuclear_plants_final.csv\")\n",
    "data = shuffle(data)\n",
    "data"
   ]
  },
  {
   "cell_type": "code",
   "execution_count": 85,
   "metadata": {},
   "outputs": [
    {
     "name": "stderr",
     "output_type": "stream",
     "text": [
      "c:\\users\\mattn\\appdata\\local\\programs\\python\\python36\\lib\\site-packages\\ipykernel_launcher.py:1: FutureWarning: Method .as_matrix will be removed in a future version. Use .values instead.\n",
      "  \"\"\"Entry point for launching an IPython kernel.\n",
      "c:\\users\\mattn\\appdata\\local\\programs\\python\\python36\\lib\\site-packages\\ipykernel_launcher.py:2: FutureWarning: Method .as_matrix will be removed in a future version. Use .values instead.\n",
      "  \n",
      "c:\\users\\mattn\\appdata\\local\\programs\\python\\python36\\lib\\site-packages\\ipykernel_launcher.py:3: FutureWarning: Method .as_matrix will be removed in a future version. Use .values instead.\n",
      "  This is separate from the ipykernel package so we can avoid doing imports until\n",
      "c:\\users\\mattn\\appdata\\local\\programs\\python\\python36\\lib\\site-packages\\ipykernel_launcher.py:4: FutureWarning: Method .as_matrix will be removed in a future version. Use .values instead.\n",
      "  after removing the cwd from sys.path.\n",
      "c:\\users\\mattn\\appdata\\local\\programs\\python\\python36\\lib\\site-packages\\ipykernel_launcher.py:5: FutureWarning: Method .as_matrix will be removed in a future version. Use .values instead.\n",
      "  \"\"\"\n",
      "c:\\users\\mattn\\appdata\\local\\programs\\python\\python36\\lib\\site-packages\\ipykernel_launcher.py:6: FutureWarning: Method .as_matrix will be removed in a future version. Use .values instead.\n",
      "  \n",
      "c:\\users\\mattn\\appdata\\local\\programs\\python\\python36\\lib\\site-packages\\ipykernel_launcher.py:7: FutureWarning: Method .as_matrix will be removed in a future version. Use .values instead.\n",
      "  import sys\n",
      "c:\\users\\mattn\\appdata\\local\\programs\\python\\python36\\lib\\site-packages\\ipykernel_launcher.py:8: FutureWarning: Method .as_matrix will be removed in a future version. Use .values instead.\n",
      "  \n",
      "c:\\users\\mattn\\appdata\\local\\programs\\python\\python36\\lib\\site-packages\\ipykernel_launcher.py:9: FutureWarning: Method .as_matrix will be removed in a future version. Use .values instead.\n",
      "  if __name__ == '__main__':\n",
      "c:\\users\\mattn\\appdata\\local\\programs\\python\\python36\\lib\\site-packages\\ipykernel_launcher.py:10: FutureWarning: Method .as_matrix will be removed in a future version. Use .values instead.\n",
      "  # Remove the CWD from sys.path while we load stuff.\n",
      "c:\\users\\mattn\\appdata\\local\\programs\\python\\python36\\lib\\site-packages\\ipykernel_launcher.py:11: FutureWarning: Method .as_matrix will be removed in a future version. Use .values instead.\n",
      "  # This is added back by InteractiveShellApp.init_path()\n",
      "c:\\users\\mattn\\appdata\\local\\programs\\python\\python36\\lib\\site-packages\\ipykernel_launcher.py:12: FutureWarning: Method .as_matrix will be removed in a future version. Use .values instead.\n",
      "  if sys.path[0] == '':\n",
      "c:\\users\\mattn\\appdata\\local\\programs\\python\\python36\\lib\\site-packages\\ipykernel_launcher.py:13: FutureWarning: Method .as_matrix will be removed in a future version. Use .values instead.\n",
      "  del sys.path[0]\n"
     ]
    }
   ],
   "source": [
    "status = data['Status'].as_matrix()\n",
    "power1 = data['Power_range_sensor_1'].as_matrix()\n",
    "power2 = data['Power_range_sensor_2'].as_matrix()\n",
    "power3 = data['Power_range_sensor_3 '].as_matrix()\n",
    "power4 = data['Power_range_sensor_4'].as_matrix()\n",
    "pressure1 = data['Pressure _sensor_1'].as_matrix()\n",
    "pressure2 = data['Pressure _sensor_2'].as_matrix()\n",
    "pressure3 = data['Pressure _sensor_3'].as_matrix()\n",
    "pressure4 = data['Pressure _sensor_4'].as_matrix()\n",
    "vibration1 = data['Vibration_sensor_1'].as_matrix()\n",
    "vibration2 = data['Vibration_sensor_2'].as_matrix()\n",
    "vibration3 = data['Vibration_sensor_3'].as_matrix()\n",
    "vibration4 = data['Vibration_sensor_4'].as_matrix()"
   ]
  },
  {
   "cell_type": "code",
   "execution_count": 86,
   "metadata": {},
   "outputs": [
    {
     "data": {
      "text/plain": [
       "Power_range_sensor_1      4.999574\n",
       "Power_range_sensor_2      6.379273\n",
       "Power_range_sensor_3      9.228112\n",
       "Power_range_sensor_4      7.355272\n",
       "Pressure _sensor_1       14.199127\n",
       "Pressure _sensor_2        3.077958\n",
       "Pressure _sensor_3        5.749234\n",
       "Pressure _sensor_4        4.997002\n",
       "Vibration_sensor_1        8.164563\n",
       "Vibration_sensor_2       10.001593\n",
       "Vibration_sensor_3       15.187982\n",
       "Vibration_sensor_4        9.933591\n",
       "dtype: float64"
      ]
     },
     "execution_count": 86,
     "metadata": {},
     "output_type": "execute_result"
    }
   ],
   "source": [
    "#calculate mean of columns\n",
    "data.mean()"
   ]
  },
  {
   "cell_type": "code",
   "execution_count": 87,
   "metadata": {},
   "outputs": [
    {
     "data": {
      "text/plain": [
       "Power_range_sensor_1      2.764856\n",
       "Power_range_sensor_2      2.312569\n",
       "Power_range_sensor_3      2.532173\n",
       "Power_range_sensor_4      4.354778\n",
       "Pressure _sensor_1       11.680045\n",
       "Pressure _sensor_2        2.126091\n",
       "Pressure _sensor_3        2.526136\n",
       "Pressure _sensor_4        4.165490\n",
       "Vibration_sensor_1        6.173261\n",
       "Vibration_sensor_2        7.336233\n",
       "Vibration_sensor_3       12.159625\n",
       "Vibration_sensor_4        7.282383\n",
       "dtype: float64"
      ]
     },
     "execution_count": 87,
     "metadata": {},
     "output_type": "execute_result"
    }
   ],
   "source": [
    "#calculate standard deviations\n",
    "data.std()"
   ]
  },
  {
   "cell_type": "code",
   "execution_count": 88,
   "metadata": {},
   "outputs": [
    {
     "data": {
      "text/plain": [
       "Status                    Normal\n",
       "Power_range_sensor_1     12.1298\n",
       "Power_range_sensor_2     11.9284\n",
       "Power_range_sensor_3     15.7599\n",
       "Power_range_sensor_4     17.2359\n",
       "Pressure _sensor_1       67.9794\n",
       "Pressure _sensor_2       10.2427\n",
       "Pressure _sensor_3       12.6475\n",
       "Pressure _sensor_4       16.5556\n",
       "Vibration_sensor_1       36.1864\n",
       "Vibration_sensor_2       34.8676\n",
       "Vibration_sensor_3       53.2384\n",
       "Vibration_sensor_4       43.2314\n",
       "dtype: object"
      ]
     },
     "execution_count": 88,
     "metadata": {},
     "output_type": "execute_result"
    }
   ],
   "source": [
    "#calculate maximum of each column\n",
    "data.max()"
   ]
  },
  {
   "cell_type": "code",
   "execution_count": 89,
   "metadata": {},
   "outputs": [
    {
     "data": {
      "text/plain": [
       "Status                   Abnormal\n",
       "Power_range_sensor_1       0.0082\n",
       "Power_range_sensor_2       0.0403\n",
       "Power_range_sensor_3      2.58397\n",
       "Power_range_sensor_4       0.0623\n",
       "Pressure _sensor_1         0.0248\n",
       "Pressure _sensor_2       0.008262\n",
       "Pressure _sensor_3       0.001224\n",
       "Pressure _sensor_4         0.0058\n",
       "Vibration_sensor_1              0\n",
       "Vibration_sensor_2         0.0185\n",
       "Vibration_sensor_3         0.0646\n",
       "Vibration_sensor_4         0.0092\n",
       "dtype: object"
      ]
     },
     "execution_count": 89,
     "metadata": {},
     "output_type": "execute_result"
    }
   ],
   "source": [
    "#calculate minimum of each column\n",
    "data.min()"
   ]
  },
  {
   "cell_type": "code",
   "execution_count": 90,
   "metadata": {},
   "outputs": [
    {
     "data": {
      "image/png": "[encoded data removed]",
      "text/plain": [
       "<Figure size 432x288 with 1 Axes>"
      ]
     },
     "metadata": {
      "needs_background": "light"
     },
     "output_type": "display_data"
    }
   ],
   "source": [
    "#boxplot\n",
    "box = sns.boxplot(x=\"Status\", y=\"Vibration_sensor_1\", data=data)\n"
   ]
  },
  {
   "cell_type": "code",
   "execution_count": 91,
   "metadata": {},
   "outputs": [
    {
     "data": {
      "text/plain": [
       "<matplotlib.axes._subplots.AxesSubplot at 0x26162a1ce48>"
      ]
     },
     "execution_count": 91,
     "metadata": {},
     "output_type": "execute_result"
    },
    {
     "data": {
      "image/png": "[encoded data removed]",
      "text/plain": [
       "<Figure size 432x288 with 1 Axes>"
      ]
     },
     "metadata": {
      "needs_background": "light"
     },
     "output_type": "display_data"
    }
   ],
   "source": [
    "#density plot\n",
    "vibration2 = data['Vibration_sensor_2'].as_matrix()\n",
    "sns.distplot(vibration2)"
   ]
  },
  {
   "cell_type": "code",
   "execution_count": 92,
   "metadata": {},
   "outputs": [
    {
     "data": {
      "text/html": [
       "<div>\n",
       "<style scoped>\n",
       "    .dataframe tbody tr th:only-of-type {\n",
       "        vertical-align: middle;\n",
       "    }\n",
       "\n",
       "    .dataframe tbody tr th {\n",
       "        vertical-align: top;\n",
       "    }\n",
       "\n",
       "    .dataframe thead th {\n",
       "        text-align: right;\n",
       "    }\n",
       "</style>\n",
       "<table border=\"1\" class=\"dataframe\">\n",
       "  <thead>\n",
       "    <tr style=\"text-align: right;\">\n",
       "      <th></th>\n",
       "      <th>Status</th>\n",
       "    </tr>\n",
       "  </thead>\n",
       "  <tbody>\n",
       "    <tr>\n",
       "      <th>411</th>\n",
       "      <td>Normal</td>\n",
       "    </tr>\n",
       "    <tr>\n",
       "      <th>922</th>\n",
       "      <td>Abnormal</td>\n",
       "    </tr>\n",
       "    <tr>\n",
       "      <th>624</th>\n",
       "      <td>Abnormal</td>\n",
       "    </tr>\n",
       "    <tr>\n",
       "      <th>446</th>\n",
       "      <td>Normal</td>\n",
       "    </tr>\n",
       "    <tr>\n",
       "      <th>853</th>\n",
       "      <td>Abnormal</td>\n",
       "    </tr>\n",
       "  </tbody>\n",
       "</table>\n",
       "</div>"
      ],
      "text/plain": [
       "       Status\n",
       "411    Normal\n",
       "922  Abnormal\n",
       "624  Abnormal\n",
       "446    Normal\n",
       "853  Abnormal"
      ]
     },
     "execution_count": 92,
     "metadata": {},
     "output_type": "execute_result"
    }
   ],
   "source": [
    "#Preprocessing\n",
    "X = data.iloc[:, 1:13]\n",
    "Y = data.select_dtypes(include=[object])#seperate catagorical data\n",
    "Y.head()"
   ]
  },
  {
   "cell_type": "code",
   "execution_count": 93,
   "metadata": {},
   "outputs": [
    {
     "data": {
      "text/plain": [
       "array(['Normal', 'Abnormal'], dtype=object)"
      ]
     },
     "execution_count": 93,
     "metadata": {},
     "output_type": "execute_result"
    }
   ],
   "source": [
    "Y.Status.unique()#Unique values in Y"
   ]
  },
  {
   "cell_type": "code",
   "execution_count": 105,
   "metadata": {},
   "outputs": [
    {
     "data": {
      "text/plain": [
       "array([1, 0], dtype=int64)"
      ]
     },
     "execution_count": 105,
     "metadata": {},
     "output_type": "execute_result"
    }
   ],
   "source": [
    "# Turn catagorical data into numerical data\n",
    "le = preprocessing.LabelEncoder()\n",
    "Y = Y.apply(le.fit_transform)\n",
    "Y.Status.unique()"
   ]
  },
  {
   "cell_type": "code",
   "execution_count": 95,
   "metadata": {},
   "outputs": [],
   "source": [
    "#Split the data into 90% training and 10% testing\n",
    "X_train, X_test, Y_train, Y_test = train_test_split(X, Y, test_size = 0.10)"
   ]
  },
  {
   "cell_type": "code",
   "execution_count": 96,
   "metadata": {},
   "outputs": [],
   "source": [
    "#Peform feature scaling on the training data\n",
    "scaler = StandardScaler()\n",
    "scaler.fit(X_train)\n",
    "\n",
    "X_train = scaler.transform(X_train)\n",
    "X_test = scaler.transform(X_test)"
   ]
  },
  {
   "cell_type": "code",
   "execution_count": 97,
   "metadata": {},
   "outputs": [
    {
     "data": {
      "text/plain": [
       "MLPClassifier(activation='relu', alpha=0.0001, batch_size='auto', beta_1=0.9,\n",
       "              beta_2=0.999, early_stopping=False, epsilon=1e-08,\n",
       "              hidden_layer_sizes=(500, 500), learning_rate='constant',\n",
       "              learning_rate_init=0.001, max_iter=1000, momentum=0.9,\n",
       "              n_iter_no_change=10, nesterovs_momentum=True, power_t=0.5,\n",
       "              random_state=None, shuffle=True, solver='adam', tol=0.0001,\n",
       "              validation_fraction=0.1, verbose=False, warm_start=False)"
      ]
     },
     "execution_count": 97,
     "metadata": {},
     "output_type": "execute_result"
    }
   ],
   "source": [
    "#Train neural network\n",
    "mlp = MLPClassifier(hidden_layer_sizes = (500, 500), max_iter = 1000)\n",
    "mlp.fit(X_train, Y_train.values.ravel())"
   ]
  },
  {
   "cell_type": "code",
   "execution_count": 98,
   "metadata": {},
   "outputs": [],
   "source": [
    "#Predict test data\n",
    "predictions = mlp.predict(X_test)"
   ]
  },
  {
   "cell_type": "code",
   "execution_count": 100,
   "metadata": {},
   "outputs": [
    {
     "name": "stdout",
     "output_type": "stream",
     "text": [
      "[[36  5]\n",
      " [ 6 53]]\n",
      "              precision    recall  f1-score   support\n",
      "\n",
      "           0       0.86      0.88      0.87        41\n",
      "           1       0.91      0.90      0.91        59\n",
      "\n",
      "    accuracy                           0.89       100\n",
      "   macro avg       0.89      0.89      0.89       100\n",
      "weighted avg       0.89      0.89      0.89       100\n",
      "\n"
     ]
    }
   ],
   "source": [
    "#Evaluate Algorithm\n",
    "from sklearn.metrics import classification_report, confusion_matrix\n",
    "print(confusion_matrix(Y_test, predictions))\n",
    "print(classification_report(Y_test, predictions))"
   ]
  },
  {
   "cell_type": "code",
   "execution_count": 113,
   "metadata": {},
   "outputs": [
    {
     "name": "stderr",
     "output_type": "stream",
     "text": [
      "c:\\users\\mattn\\appdata\\local\\programs\\python\\python36\\lib\\site-packages\\sklearn\\neural_network\\multilayer_perceptron.py:921: DataConversionWarning: A column-vector y was passed when a 1d array was expected. Please change the shape of y to (n_samples, ), for example using ravel().\n",
      "  y = column_or_1d(y, warn=True)\n",
      "c:\\users\\mattn\\appdata\\local\\programs\\python\\python36\\lib\\site-packages\\sklearn\\neural_network\\multilayer_perceptron.py:921: DataConversionWarning: A column-vector y was passed when a 1d array was expected. Please change the shape of y to (n_samples, ), for example using ravel().\n",
      "  y = column_or_1d(y, warn=True)\n",
      "c:\\users\\mattn\\appdata\\local\\programs\\python\\python36\\lib\\site-packages\\sklearn\\neural_network\\multilayer_perceptron.py:921: DataConversionWarning: A column-vector y was passed when a 1d array was expected. Please change the shape of y to (n_samples, ), for example using ravel().\n",
      "  y = column_or_1d(y, warn=True)\n",
      "c:\\users\\mattn\\appdata\\local\\programs\\python\\python36\\lib\\site-packages\\sklearn\\neural_network\\multilayer_perceptron.py:921: DataConversionWarning: A column-vector y was passed when a 1d array was expected. Please change the shape of y to (n_samples, ), for example using ravel().\n",
      "  y = column_or_1d(y, warn=True)\n",
      "c:\\users\\mattn\\appdata\\local\\programs\\python\\python36\\lib\\site-packages\\sklearn\\neural_network\\multilayer_perceptron.py:921: DataConversionWarning: A column-vector y was passed when a 1d array was expected. Please change the shape of y to (n_samples, ), for example using ravel().\n",
      "  y = column_or_1d(y, warn=True)\n",
      "c:\\users\\mattn\\appdata\\local\\programs\\python\\python36\\lib\\site-packages\\sklearn\\neural_network\\multilayer_perceptron.py:921: DataConversionWarning: A column-vector y was passed when a 1d array was expected. Please change the shape of y to (n_samples, ), for example using ravel().\n",
      "  y = column_or_1d(y, warn=True)\n",
      "c:\\users\\mattn\\appdata\\local\\programs\\python\\python36\\lib\\site-packages\\sklearn\\neural_network\\multilayer_perceptron.py:921: DataConversionWarning: A column-vector y was passed when a 1d array was expected. Please change the shape of y to (n_samples, ), for example using ravel().\n",
      "  y = column_or_1d(y, warn=True)\n",
      "c:\\users\\mattn\\appdata\\local\\programs\\python\\python36\\lib\\site-packages\\sklearn\\neural_network\\multilayer_perceptron.py:921: DataConversionWarning: A column-vector y was passed when a 1d array was expected. Please change the shape of y to (n_samples, ), for example using ravel().\n",
      "  y = column_or_1d(y, warn=True)\n",
      "c:\\users\\mattn\\appdata\\local\\programs\\python\\python36\\lib\\site-packages\\sklearn\\neural_network\\multilayer_perceptron.py:921: DataConversionWarning: A column-vector y was passed when a 1d array was expected. Please change the shape of y to (n_samples, ), for example using ravel().\n",
      "  y = column_or_1d(y, warn=True)\n",
      "c:\\users\\mattn\\appdata\\local\\programs\\python\\python36\\lib\\site-packages\\sklearn\\neural_network\\multilayer_perceptron.py:921: DataConversionWarning: A column-vector y was passed when a 1d array was expected. Please change the shape of y to (n_samples, ), for example using ravel().\n",
      "  y = column_or_1d(y, warn=True)\n"
     ]
    },
    {
     "name": "stdout",
     "output_type": "stream",
     "text": [
      "[0.88       0.86       0.88       0.88       0.91       0.86\n",
      " 0.9        0.85       0.8877551  0.87755102]\n"
     ]
    }
   ],
   "source": [
    "\n",
    "from sklearn.model_selection import cross_val_score\n",
    "\n",
    "mlp = MLPClassifier(hidden_layer_sizes = (500), max_iter = 1000)\n",
    "scores = cross_val_score(mlp, X, Y, cv = 10, scoring = 'accuracy')\n",
    "print(scores)\n",
    "    "
   ]
  },
  {
   "cell_type": "code",
   "execution_count": null,
   "metadata": {},
   "outputs": [],
   "source": []
  },
  {
   "cell_type": "code",
   "execution_count": null,
   "metadata": {},
   "outputs": [],
   "source": []
  }
 ],
 "metadata": {
  "kernelspec": {
   "display_name": "Python 3",
   "language": "python",
   "name": "python3"
  },
  "language_info": {
   "codemirror_mode": {
    "name": "ipython",
    "version": 3
   },
   "file_extension": ".py",
   "mimetype": "text/x-python",
   "name": "python",
   "nbconvert_exporter": "python",
   "pygments_lexer": "ipython3",
   "version": "3.6.8"
  }
 },
 "nbformat": 4,
 "nbformat_minor": 2
}
